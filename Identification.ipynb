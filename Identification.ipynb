{
 "cells": [
  {
   "cell_type": "code",
   "execution_count": 1,
   "id": "632b2739",
   "metadata": {},
   "outputs": [],
   "source": [
    "import requests"
   ]
  },
  {
   "cell_type": "code",
   "execution_count": 2,
   "id": "c52099f6",
   "metadata": {},
   "outputs": [],
   "source": [
    "def get_records_resource(pid):\n",
    "    '''\n",
    "    Purpose: Web-scraping the data from the website's tables\n",
    "    Returns: Response from web server. Responses include 0,1 for non-winning Personal ID (PID) and a winning PID, respectively.\n",
    "    '''\n",
    "    base_url = 'https://stopcov-api.lotto.ge/Public/Winnings'\n",
    "    url = base_url + '/' + pid \n",
    "    response = requests.get(url)\n",
    "    response_json = response.json()\n",
    "    return response_json"
   ]
  },
  {
   "cell_type": "code",
   "execution_count": 3,
   "id": "fa67a25c",
   "metadata": {},
   "outputs": [],
   "source": [
    "def identify_010_849():\n",
    "    '''\n",
    "    Purpose: Identify a winner with prefix 010 and postfix 849\n",
    "    Returns: A signle winner's Personal ID (PID) \n",
    "    '''\n",
    "    for i in range (10**5):\n",
    "        h = '010' + '{0:05}'.format(i) + '849'\n",
    "        if(get_records_resource(h) == \"1\"): #if a given PID has won\n",
    "            return h"
   ]
  },
  {
   "cell_type": "code",
   "execution_count": null,
   "id": "b74c4ad7",
   "metadata": {},
   "outputs": [],
   "source": [
    "def main():\n",
    "    identify_010_849()\n",
    "main()"
   ]
  }
 ],
 "metadata": {
  "kernelspec": {
   "display_name": "Python 3",
   "language": "python",
   "name": "python3"
  },
  "language_info": {
   "codemirror_mode": {
    "name": "ipython",
    "version": 3
   },
   "file_extension": ".py",
   "mimetype": "text/x-python",
   "name": "python",
   "nbconvert_exporter": "python",
   "pygments_lexer": "ipython3",
   "version": "3.10.9 (tags/v3.10.9:1dd9be6, Dec  6 2022, 20:01:21) [MSC v.1934 64 bit (AMD64)]"
  },
  "vscode": {
   "interpreter": {
    "hash": "1c76e44cd9c51c26332c3ef2deadc20ab84fead04be6bb61fc4e613a7134df51"
   }
  }
 },
 "nbformat": 4,
 "nbformat_minor": 5
}
