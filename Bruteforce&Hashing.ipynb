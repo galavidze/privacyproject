{
 "cells": [
  {
   "cell_type": "code",
   "execution_count": 13,
   "metadata": {},
   "outputs": [],
   "source": [
    "# Giorgi Alavidze, Feb 22\n",
    "# The notebook includes the following:\n",
    "# (1) \"Optimal\" brute force search\n",
    "# (2) Hashing \n",
    "# (3) Small essay on why Hashing defeats the brute force search (1)\n",
    "# (4) K-anonymized dataset \n"
   ]
  },
  {
   "cell_type": "code",
   "execution_count": 14,
   "metadata": {},
   "outputs": [],
   "source": [
    "import requests \n",
    "import json \n",
    "import pandas as pd\n",
    "import itertools\n",
    "import pandasql\n",
    "import os\n",
    "import matplotlib\n",
    "import numpy as np \n",
    "import secrets\n",
    "mil = 1000000"
   ]
  },
  {
   "cell_type": "code",
   "execution_count": 15,
   "metadata": {},
   "outputs": [],
   "source": [
    "def open_csv():\n",
    "    '''\n",
    "    Opens lottoproject.csv, \n",
    "    file attached on github.\n",
    "    '''\n",
    "    df = pd.read_csv('lottoproject.csv')\n",
    "    df =  df.drop(df.columns[0],axis=1) #get rid of unwanted columns\n",
    "    return df"
   ]
  },
  {
   "cell_type": "code",
   "execution_count": 16,
   "metadata": {},
   "outputs": [],
   "source": [
    "def get_records_resource(pid):\n",
    "    '''\n",
    "    get a set of records for 1 day \n",
    "    resource - [1,2] -> 1 -- general winners, 2 -- weekly winners\n",
    "    '''\n",
    "    base_url = 'https://stopcov-api.lotto.ge/Public/Winnings'\n",
    "    url = base_url + '/' + pid \n",
    "    response = requests.get(url)\n",
    "    response_json = response.json()\n",
    "    return response_json"
   ]
  },
  {
   "cell_type": "code",
   "execution_count": 17,
   "metadata": {},
   "outputs": [],
   "source": [
    "# The following arrangements were taken from https://www.matsne.gov.ge/ka/document/view/59044?publication=0\n",
    "\n",
    "#special cases\n",
    "first_five_digits_list = ['01001', '01005', '01008', '01011', '01015', '01017', '01019', '01024', '01027', \\\n",
    "                          '01030', '61001', '61004', '61006', '61008', '66009', '61010', '62001', '62003', '62004', \\\n",
    "                          '62005', '62006', '62007', '62011', '62013']\n",
    "\n",
    "\n",
    "rest_ = [str(i) + '001' if(i > 9) else str(i) + '0001' for i in range(2,61)] # append the rest of numbers, which has the format: 02001, 03001, etc.\n",
    "\n",
    "first_five_digits_list += rest_"
   ]
  },
  {
   "cell_type": "code",
   "execution_count": 18,
   "metadata": {},
   "outputs": [],
   "source": [
    "def obtain_pid():\n",
    "    '''\n",
    "    Uses brute force search to identify winners.\n",
    "    '''\n",
    "    file_ = open('pid.txt', \"w\") #open file\n",
    "    for i in range(999999+1): #one million\n",
    "        pid = str('50001'+ '{0:06}'.format(i))\n",
    "        if(get_records_resource(pid)):\n",
    "            print(pid)\n",
    "            break\n",
    "        #print(pid, get_records_resource(pid), '\\n')\n",
    "    file_.close() #close file\n",
    "    return\n"
   ]
  },
  {
   "cell_type": "code",
   "execution_count": 12,
   "metadata": {},
   "outputs": [
    {
     "name": "stdout",
     "output_type": "stream",
     "text": [
      "50001000076\n"
     ]
    }
   ],
   "source": [
    "obtain_pid()"
   ]
  },
  {
   "cell_type": "code",
   "execution_count": 24,
   "metadata": {},
   "outputs": [
    {
     "data": {
      "text/plain": [
       "['500-----180',\n",
       " '500-----977',\n",
       " '500-----467',\n",
       " '500-----268',\n",
       " '500-----058',\n",
       " '500-----156',\n",
       " '500-----451',\n",
       " '500-----301',\n",
       " '500-----008',\n",
       " '500-----654',\n",
       " '500-----933',\n",
       " '500-----302',\n",
       " '500-----958',\n",
       " '500-----076',\n",
       " '500-----528',\n",
       " '500-----390',\n",
       " '500-----614']"
      ]
     },
     "execution_count": 24,
     "metadata": {},
     "output_type": "execute_result"
    }
   ],
   "source": [
    "df = open_csv()\n",
    "pid = df['personalId']\n",
    "pid = [i for i in pid if i[:3] == '500']\n",
    "pid"
   ]
  },
  {
   "cell_type": "markdown",
   "metadata": {},
   "source": [
    "#### In our optimal brute force search, we use the government document which gives us all possible first five element combinations (https://www.matsne.gov.ge/ka/document/view/59044?publication=0) for the personal id number. All the possible arrangements of the first five digits are stored in the first_five_digits_list. In total, there are 11 digits, and there are 82 combinations of the first five digits. That leaves us with 6 digits, and 10^6 (one million) possible combinations. Thus, we will be using the brute force by:\n",
    "#### Algorithm: for each five digit combination:\n",
    "####            for i in range of 1 million:\n",
    "####            create a string s, where s = five digit combination + i (in {0:06} format. e.g. 000001 / 999999)\n",
    "####            send a get request with string s to see if pid has won or not\n",
    "####            if true, we found a winner\n",
    "####            else, we continue the iteration\n",
    "#### Thus, in total, we will be searching over 82 * 10^6 elements. (82 million)\n",
    "##### Our other option would be using the original dataset which contains the first and last three digits of the personal id. (Not sure if this is better?)"
   ]
  },
  {
   "cell_type": "markdown",
   "metadata": {},
   "source": [
    "### (2) Hashing\n",
    "\n"
   ]
  },
  {
   "cell_type": "code",
   "execution_count": 57,
   "metadata": {},
   "outputs": [
    {
     "name": "stdout",
     "output_type": "stream",
     "text": [
      "We will be hashing 010050311541670817265 where 01005031154 is the personal id and the rest is the salt 3712349228\n"
     ]
    }
   ],
   "source": [
    "def encrypt_id(pid):\n",
    "    salt = secrets.randbits(32)\n",
    "    hash_pid = pid + str(salt) \n",
    "    return hash_pid\n",
    "    \n",
    "pid = \"01005031154\"\n",
    "print(\"We will be hashing\",encrypt_id(pid), \"where\", pid, \"is the personal id\", \"and the rest is the salt\")"
   ]
  },
  {
   "cell_type": "markdown",
   "metadata": {},
   "source": [
    "### (3) With the salt, an adversary will have to search for 82 * 10^(6+10) elements instead of 82 * 10^(6). "
   ]
  },
  {
   "cell_type": "markdown",
   "metadata": {},
   "source": [
    "### (4) For our K-anonymized dataset, K-anonymized dataset (ASK Dr. Truex)"
   ]
  }
 ],
 "metadata": {
  "interpreter": {
   "hash": "b0fa6594d8f4cbf19f97940f81e996739fb7646882a419484c72d19e05852a7e"
  },
  "kernelspec": {
   "display_name": "Python 3.9.9 64-bit",
   "language": "python",
   "name": "python3"
  },
  "language_info": {
   "codemirror_mode": {
    "name": "ipython",
    "version": 3
   },
   "file_extension": ".py",
   "mimetype": "text/x-python",
   "name": "python",
   "nbconvert_exporter": "python",
   "pygments_lexer": "ipython3",
   "version": "3.9.9"
  },
  "orig_nbformat": 4
 },
 "nbformat": 4,
 "nbformat_minor": 2
}
